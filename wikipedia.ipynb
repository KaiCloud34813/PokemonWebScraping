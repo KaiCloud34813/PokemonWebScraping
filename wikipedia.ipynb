{
 "cells": [
  {
   "cell_type": "markdown",
   "metadata": {},
   "source": [
    "# Web Scraping with Requests and Beautiful Soup \"BS4\" #Example 2"
   ]
  },
  {
   "cell_type": "markdown",
   "metadata": {},
   "source": [
    "### Install"
   ]
  },
  {
   "cell_type": "code",
   "execution_count": 49,
   "metadata": {},
   "outputs": [],
   "source": [
    "#Pip install requests\n",
    "#pip install beautifulsoup4\n",
    "#pip install HTMLParser"
   ]
  },
  {
   "cell_type": "markdown",
   "metadata": {},
   "source": [
    "### Import needed libraries"
   ]
  },
  {
   "cell_type": "code",
   "execution_count": 50,
   "metadata": {},
   "outputs": [],
   "source": [
    "import requests\n",
    "from bs4 import BeautifulSoup"
   ]
  },
  {
   "cell_type": "markdown",
   "metadata": {},
   "source": [
    "The Objective is to get the list of laptops available for sale on jumia"
   ]
  },
  {
   "cell_type": "code",
   "execution_count": 51,
   "metadata": {},
   "outputs": [],
   "source": [
    "url = 'https://www.wikipedia.org/'"
   ]
  },
  {
   "cell_type": "markdown",
   "metadata": {
    "collapsed": true
   },
   "source": [
    "### Requests"
   ]
  },
  {
   "cell_type": "code",
   "execution_count": 52,
   "metadata": {},
   "outputs": [
    {
     "data": {
      "text/plain": [
       "200"
      ]
     },
     "execution_count": 52,
     "metadata": {},
     "output_type": "execute_result"
    }
   ],
   "source": [
    "req = requests.get(url)\n",
    "status = req.status_code\n",
    "encoding = req.encoding\n",
    "html_doc = req.text\n",
    "status"
   ]
  },
  {
   "cell_type": "markdown",
   "metadata": {},
   "source": [
    "### BS4"
   ]
  },
  {
   "cell_type": "code",
   "execution_count": 53,
   "metadata": {},
   "outputs": [],
   "source": [
    "soup = BeautifulSoup(html_doc, 'html.parser')"
   ]
  },
  {
   "cell_type": "code",
   "execution_count": 54,
   "metadata": {
    "scrolled": true
   },
   "outputs": [
    {
     "name": "stdout",
     "output_type": "stream",
     "text": [
      "<div class=\"central-featured\" data-el-section=\"primary links\">\n",
      "<!-- Rankings from http://stats.wikimedia.org/EN/Sitemap.htm -->\n",
      "<!-- Article counts from http://meta.wikimedia.org/wiki/List_of_Wikipedias/Table -->\n",
      "<!-- #1. en.wikipedia.org - 1 773 747 000 views/day -->\n",
      "<div class=\"central-featured-lang lang1\" dir=\"ltr\" lang=\"en\">\n",
      "<a class=\"link-box\" data-slogan=\"The Free Encyclopedia\" href=\"//en.wikipedia.org/\" id=\"js-link-box-en\" title=\"English â Wikipedia â The Free Encyclopedia\">\n",
      "<strong>English</strong>\n",
      "<small><bdi dir=\"ltr\">6 029 000+</bdi> <span>articles</span></small>\n",
      "</a>\n",
      "</div>\n",
      "<!-- #2. es.wikipedia.org - 242 964 000 views/day -->\n",
      "<div class=\"central-featured-lang lang2\" dir=\"ltr\" lang=\"es\">\n",
      "<a class=\"link-box\" data-slogan=\"La enciclopedia libre\" href=\"//es.wikipedia.org/\" id=\"js-link-box-es\" title=\"EspaÃ±ol â Wikipedia â La enciclopedia libre\">\n",
      "<strong>EspaÃ±ol</strong>\n",
      "<small><bdi dir=\"ltr\">1 581 000+</bdi> <span>artÃ­culos</span></small>\n",
      "</a>\n",
      "</div>\n",
      "<!-- #3. ja.wikipedia.org - 242 075 000 views/day -->\n",
      "<div class=\"central-featured-lang lang3\" dir=\"ltr\" lang=\"ja\">\n",
      "<a class=\"link-box\" data-slogan=\"ããªã¼ç¾ç§äºå",
      "¸\" href=\"//ja.wikipedia.org/\" id=\"js-link-box-ja\" title=\"Nihongo â ã¦ã£ã­ããã£ã¢ â ããªã¼ç¾ç§äºå",
      "¸\">\n",
      "<strong>æ¥æ¬èª</strong>\n",
      "<small><bdi dir=\"ltr\">1 193 000+</bdi> <span>è¨äº</span></small>\n",
      "</a>\n",
      "</div>\n",
      "<!-- #4. de.wikipedia.org - 215 174 000 views/day -->\n",
      "<div class=\"central-featured-lang lang4\" dir=\"ltr\" lang=\"de\">\n",
      "<a class=\"link-box\" data-slogan=\"Die freie EnzyklopÃ¤die\" href=\"//de.wikipedia.org/\" id=\"js-link-box-de\" title=\"Deutsch â Wikipedia â Die freie EnzyklopÃ¤die\">\n",
      "<strong>Deutsch</strong>\n",
      "<small><bdi dir=\"ltr\">2 406 000+</bdi> <span>Artikel</span></small>\n",
      "</a>\n",
      "</div>\n",
      "<!-- #5. ru.wikipedia.org - 181 425 000 views/day -->\n",
      "<div class=\"central-featured-lang lang5\" dir=\"ltr\" lang=\"ru\">\n",
      "<a class=\"link-box\" data-slogan=\"Ð¡Ð²Ð¾Ð±Ð¾Ð´Ð½Ð°Ñ ÑÐ½ÑÐ¸ÐºÐ»Ð¾Ð¿ÐµÐ´Ð¸Ñ\" href=\"//ru.wikipedia.org/\" id=\"js-link-box-ru\" title=\"Russkiy â ÐÐ¸ÐºÐ¸Ð¿ÐµÐ´Ð¸Ñ â Ð¡Ð²Ð¾Ð±Ð¾Ð´Ð½Ð°Ñ ÑÐ½ÑÐ¸ÐºÐ»Ð¾Ð¿ÐµÐ´Ð¸Ñ\">\n",
      "<strong>Ð ÑÑÑÐºÐ¸Ð¹</strong>\n",
      "<small><bdi dir=\"ltr\">1 602 000+</bdi> <span>ÑÑÐ°ÑÐµÐ¹</span></small>\n",
      "</a>\n",
      "</div>\n",
      "<!-- #6. fr.wikipedia.org - 168 214 000 views/day -->\n",
      "<div class=\"central-featured-lang lang6\" dir=\"ltr\" lang=\"fr\">\n",
      "<a class=\"link-box\" data-slogan=\"LâencyclopÃ©die libre\" href=\"//fr.wikipedia.org/\" id=\"js-link-box-fr\" title=\"FranÃ§ais â WikipÃ©dia â LâencyclopÃ©die libre\">\n",
      "<strong>FranÃ§ais</strong>\n",
      "<small><bdi dir=\"ltr\">2 187 000+</bdi> <span>articles</span></small>\n",
      "</a>\n",
      "</div>\n",
      "<!-- #7. it.wikipedia.org - 117 028 000 views/day -->\n",
      "<div class=\"central-featured-lang lang7\" dir=\"ltr\" lang=\"it\">\n",
      "<a class=\"link-box\" data-slogan=\"L'enciclopedia libera\" href=\"//it.wikipedia.org/\" id=\"js-link-box-it\" title=\"Italiano â Wikipedia â L'enciclopedia libera\">\n",
      "<strong>Italiano</strong>\n",
      "<small><bdi dir=\"ltr\">1 588 000+</bdi> <span>voci</span></small>\n",
      "</a>\n",
      "</div>\n",
      "<!-- #8. zh.wikipedia.org - 98 321 000 views/day -->\n",
      "<div class=\"central-featured-lang lang8\" dir=\"ltr\" lang=\"zh\">\n",
      "<a class=\"link-box\" data-converttitle-hans=\"ZhÅngwÃ©n â ç»´åºç¾ç§ â èªç±çç¾ç§å",
      "¨ä¹¦\" data-slogan=\"èªç±çç¾ç§å",
      "¨æ¸\" href=\"//zh.wikipedia.org/\" id=\"js-link-box-zh\" title=\"ZhÅngwÃ©n â ç¶­åºç¾ç§ â èªç±çç¾ç§å",
      "¨æ¸\">\n",
      "<strong>ä¸­æ</strong>\n",
      "<small><bdi dir=\"ltr\">1 101 000+</bdi> <span data-convert-hans=\"æ¡ç®\" id=\"zh_art\">æ¢ç®</span></small>\n",
      "</a>\n",
      "</div>\n",
      "<!-- #9. pt.wikipedia.org - 76 930 000 views/day -->\n",
      "<div class=\"central-featured-lang lang9\" dir=\"ltr\" lang=\"pt\">\n",
      "<a class=\"link-box\" data-slogan=\"A enciclopÃ©dia livre\" href=\"//pt.wikipedia.org/\" id=\"js-link-box-pt\" title=\"PortuguÃªs â WikipÃ©dia â A enciclopÃ©dia livre\">\n",
      "<strong>PortuguÃªs</strong>\n",
      "<small><bdi dir=\"ltr\">1 023 000+</bdi> <span>artigos</span></small>\n",
      "</a>\n",
      "</div>\n",
      "<!-- #10. pl.wikipedia.org - 58 153 000 views/day -->\n",
      "<div class=\"central-featured-lang lang10\" dir=\"ltr\" lang=\"pl\">\n",
      "<a class=\"link-box\" data-slogan=\"Wolna encyklopedia\" href=\"//pl.wikipedia.org/\" id=\"js-link-box-pl\" title=\"Polski â Wikipedia â Wolna encyklopedia\">\n",
      "<strong>Polski</strong>\n",
      "<small><bdi dir=\"ltr\">1 388 000+</bdi> <span>haseÅ</span></small>\n",
      "</a>\n",
      "</div>\n",
      "</div>\n"
     ]
    },
    {
     "data": {
      "text/plain": [
       "bs4.element.Tag"
      ]
     },
     "execution_count": 54,
     "metadata": {},
     "output_type": "execute_result"
    }
   ],
   "source": [
    "langue=soup.find(\"div\", {\"class\": \"central-featured\"})\n",
    "print(langue)\n",
    "type(langue)\n"
   ]
  },
  {
   "cell_type": "code",
   "execution_count": 55,
   "metadata": {},
   "outputs": [
    {
     "data": {
      "text/plain": [
       "[<strong>English</strong>,\n",
       " <strong>EspaÃ±ol</strong>,\n",
       " <strong>æ¥æ¬èª</strong>,\n",
       " <strong>Deutsch</strong>,\n",
       " <strong>Ð ÑÑÑÐºÐ¸Ð¹</strong>,\n",
       " <strong>FranÃ§ais</strong>,\n",
       " <strong>Italiano</strong>,\n",
       " <strong>ä¸­æ</strong>,\n",
       " <strong>PortuguÃªs</strong>,\n",
       " <strong>Polski</strong>]"
      ]
     },
     "execution_count": 55,
     "metadata": {},
     "output_type": "execute_result"
    }
   ],
   "source": [
    "langue=langue.find_all('strong')\n",
    "langue"
   ]
  },
  {
   "cell_type": "code",
   "execution_count": 56,
   "metadata": {},
   "outputs": [
    {
     "data": {
      "text/plain": [
       "'EspaÃ±ol'"
      ]
     },
     "execution_count": 56,
     "metadata": {},
     "output_type": "execute_result"
    }
   ],
   "source": [
    "langue[1].text"
   ]
  },
  {
   "cell_type": "code",
   "execution_count": 57,
   "metadata": {},
   "outputs": [
    {
     "data": {
      "text/plain": [
       "['English',\n",
       " 'EspaÃ±ol',\n",
       " 'æ\\x97¥æ\\x9c¬èª\\x9e',\n",
       " 'Deutsch',\n",
       " 'Ð\\xa0Ñ\\x83Ñ\\x81Ñ\\x81ÐºÐ¸Ð¹',\n",
       " 'FranÃ§ais',\n",
       " 'Italiano',\n",
       " 'ä¸\\xadæ\\x96\\x87',\n",
       " 'PortuguÃªs',\n",
       " 'Polski']"
      ]
     },
     "execution_count": 57,
     "metadata": {},
     "output_type": "execute_result"
    }
   ],
   "source": [
    "langue_item=[]\n",
    "i=0\n",
    "for item in langue:\n",
    "    langue_item.append(langue[i].text)\n",
    "    i+=1\n",
    "langue_item\n"
   ]
  },
  {
   "cell_type": "code",
   "execution_count": 58,
   "metadata": {},
   "outputs": [
    {
     "data": {
      "text/plain": [
       "<div class=\"central-featured\" data-el-section=\"primary links\">\n",
       "<!-- Rankings from http://stats.wikimedia.org/EN/Sitemap.htm -->\n",
       "<!-- Article counts from http://meta.wikimedia.org/wiki/List_of_Wikipedias/Table -->\n",
       "<!-- #1. en.wikipedia.org - 1 773 747 000 views/day -->\n",
       "<div class=\"central-featured-lang lang1\" dir=\"ltr\" lang=\"en\">\n",
       "<a class=\"link-box\" data-slogan=\"The Free Encyclopedia\" href=\"//en.wikipedia.org/\" id=\"js-link-box-en\" title=\"English â Wikipedia â The Free Encyclopedia\">\n",
       "<strong>English</strong>\n",
       "<small><bdi dir=\"ltr\">6 029 000+</bdi> <span>articles</span></small>\n",
       "</a>\n",
       "</div>\n",
       "<!-- #2. es.wikipedia.org - 242 964 000 views/day -->\n",
       "<div class=\"central-featured-lang lang2\" dir=\"ltr\" lang=\"es\">\n",
       "<a class=\"link-box\" data-slogan=\"La enciclopedia libre\" href=\"//es.wikipedia.org/\" id=\"js-link-box-es\" title=\"EspaÃ±ol â Wikipedia â La enciclopedia libre\">\n",
       "<strong>EspaÃ±ol</strong>\n",
       "<small><bdi dir=\"ltr\">1 581 000+</bdi> <span>artÃ­culos</span></small>\n",
       "</a>\n",
       "</div>\n",
       "<!-- #3. ja.wikipedia.org - 242 075 000 views/day -->\n",
       "<div class=\"central-featured-lang lang3\" dir=\"ltr\" lang=\"ja\">\n",
       "<a class=\"link-box\" data-slogan=\"ããªã¼ç¾ç§äºå\n",
       "¸\" href=\"//ja.wikipedia.org/\" id=\"js-link-box-ja\" title=\"Nihongo â ã¦ã£ã­ããã£ã¢ â ããªã¼ç¾ç§äºå\n",
       "¸\">\n",
       "<strong>æ¥æ¬èª</strong>\n",
       "<small><bdi dir=\"ltr\">1 193 000+</bdi> <span>è¨äº</span></small>\n",
       "</a>\n",
       "</div>\n",
       "<!-- #4. de.wikipedia.org - 215 174 000 views/day -->\n",
       "<div class=\"central-featured-lang lang4\" dir=\"ltr\" lang=\"de\">\n",
       "<a class=\"link-box\" data-slogan=\"Die freie EnzyklopÃ¤die\" href=\"//de.wikipedia.org/\" id=\"js-link-box-de\" title=\"Deutsch â Wikipedia â Die freie EnzyklopÃ¤die\">\n",
       "<strong>Deutsch</strong>\n",
       "<small><bdi dir=\"ltr\">2 406 000+</bdi> <span>Artikel</span></small>\n",
       "</a>\n",
       "</div>\n",
       "<!-- #5. ru.wikipedia.org - 181 425 000 views/day -->\n",
       "<div class=\"central-featured-lang lang5\" dir=\"ltr\" lang=\"ru\">\n",
       "<a class=\"link-box\" data-slogan=\"Ð¡Ð²Ð¾Ð±Ð¾Ð´Ð½Ð°Ñ ÑÐ½ÑÐ¸ÐºÐ»Ð¾Ð¿ÐµÐ´Ð¸Ñ\" href=\"//ru.wikipedia.org/\" id=\"js-link-box-ru\" title=\"Russkiy â ÐÐ¸ÐºÐ¸Ð¿ÐµÐ´Ð¸Ñ â Ð¡Ð²Ð¾Ð±Ð¾Ð´Ð½Ð°Ñ ÑÐ½ÑÐ¸ÐºÐ»Ð¾Ð¿ÐµÐ´Ð¸Ñ\">\n",
       "<strong>Ð ÑÑÑÐºÐ¸Ð¹</strong>\n",
       "<small><bdi dir=\"ltr\">1 602 000+</bdi> <span>ÑÑÐ°ÑÐµÐ¹</span></small>\n",
       "</a>\n",
       "</div>\n",
       "<!-- #6. fr.wikipedia.org - 168 214 000 views/day -->\n",
       "<div class=\"central-featured-lang lang6\" dir=\"ltr\" lang=\"fr\">\n",
       "<a class=\"link-box\" data-slogan=\"LâencyclopÃ©die libre\" href=\"//fr.wikipedia.org/\" id=\"js-link-box-fr\" title=\"FranÃ§ais â WikipÃ©dia â LâencyclopÃ©die libre\">\n",
       "<strong>FranÃ§ais</strong>\n",
       "<small><bdi dir=\"ltr\">2 187 000+</bdi> <span>articles</span></small>\n",
       "</a>\n",
       "</div>\n",
       "<!-- #7. it.wikipedia.org - 117 028 000 views/day -->\n",
       "<div class=\"central-featured-lang lang7\" dir=\"ltr\" lang=\"it\">\n",
       "<a class=\"link-box\" data-slogan=\"L'enciclopedia libera\" href=\"//it.wikipedia.org/\" id=\"js-link-box-it\" title=\"Italiano â Wikipedia â L'enciclopedia libera\">\n",
       "<strong>Italiano</strong>\n",
       "<small><bdi dir=\"ltr\">1 588 000+</bdi> <span>voci</span></small>\n",
       "</a>\n",
       "</div>\n",
       "<!-- #8. zh.wikipedia.org - 98 321 000 views/day -->\n",
       "<div class=\"central-featured-lang lang8\" dir=\"ltr\" lang=\"zh\">\n",
       "<a class=\"link-box\" data-converttitle-hans=\"ZhÅngwÃ©n â ç»´åºç¾ç§ â èªç±çç¾ç§å\n",
       "¨ä¹¦\" data-slogan=\"èªç±çç¾ç§å\n",
       "¨æ¸\" href=\"//zh.wikipedia.org/\" id=\"js-link-box-zh\" title=\"ZhÅngwÃ©n â ç¶­åºç¾ç§ â èªç±çç¾ç§å\n",
       "¨æ¸\">\n",
       "<strong>ä¸­æ</strong>\n",
       "<small><bdi dir=\"ltr\">1 101 000+</bdi> <span data-convert-hans=\"æ¡ç®\" id=\"zh_art\">æ¢ç®</span></small>\n",
       "</a>\n",
       "</div>\n",
       "<!-- #9. pt.wikipedia.org - 76 930 000 views/day -->\n",
       "<div class=\"central-featured-lang lang9\" dir=\"ltr\" lang=\"pt\">\n",
       "<a class=\"link-box\" data-slogan=\"A enciclopÃ©dia livre\" href=\"//pt.wikipedia.org/\" id=\"js-link-box-pt\" title=\"PortuguÃªs â WikipÃ©dia â A enciclopÃ©dia livre\">\n",
       "<strong>PortuguÃªs</strong>\n",
       "<small><bdi dir=\"ltr\">1 023 000+</bdi> <span>artigos</span></small>\n",
       "</a>\n",
       "</div>\n",
       "<!-- #10. pl.wikipedia.org - 58 153 000 views/day -->\n",
       "<div class=\"central-featured-lang lang10\" dir=\"ltr\" lang=\"pl\">\n",
       "<a class=\"link-box\" data-slogan=\"Wolna encyklopedia\" href=\"//pl.wikipedia.org/\" id=\"js-link-box-pl\" title=\"Polski â Wikipedia â Wolna encyklopedia\">\n",
       "<strong>Polski</strong>\n",
       "<small><bdi dir=\"ltr\">1 388 000+</bdi> <span>haseÅ</span></small>\n",
       "</a>\n",
       "</div>\n",
       "</div>"
      ]
     },
     "execution_count": 58,
     "metadata": {},
     "output_type": "execute_result"
    }
   ],
   "source": [
    "counts=soup.find(\"div\", {\"class\": \"central-featured\"})\n",
    "counts"
   ]
  },
  {
   "cell_type": "code",
   "execution_count": null,
   "metadata": {},
   "outputs": [],
   "source": []
  },
  {
   "cell_type": "code",
   "execution_count": null,
   "metadata": {},
   "outputs": [],
   "source": []
  },
  {
   "cell_type": "code",
   "execution_count": 59,
   "metadata": {},
   "outputs": [
    {
     "data": {
      "text/plain": [
       "['6029000',\n",
       " '1581000',\n",
       " '1193000',\n",
       " '2406000',\n",
       " '1602000',\n",
       " '2187000',\n",
       " '1588000',\n",
       " '1101000',\n",
       " '1023000',\n",
       " '1388000']"
      ]
     },
     "execution_count": 59,
     "metadata": {},
     "output_type": "execute_result"
    }
   ],
   "source": [
    "counts=counts.find_all('bdi')\n",
    "res=[]\n",
    "for item in counts:\n",
    "    res.append(str(item).replace(u'\\xa0', u' ').strip('\"<bdi dir=\"ltr\">').replace('+</', '').replace(' ', ''))\n",
    "    \n",
    "\n",
    "res"
   ]
  },
  {
   "cell_type": "code",
   "execution_count": null,
   "metadata": {},
   "outputs": [],
   "source": []
  }
 ],
 "metadata": {
  "kernelspec": {
   "display_name": "Python 3",
   "language": "python",
   "name": "python3"
  },
  "language_info": {
   "codemirror_mode": {
    "name": "ipython",
    "version": 3
   },
   "file_extension": ".py",
   "mimetype": "text/x-python",
   "name": "python",
   "nbconvert_exporter": "python",
   "pygments_lexer": "ipython3",
   "version": "3.7.4"
  }
 },
 "nbformat": 4,
 "nbformat_minor": 1
}
